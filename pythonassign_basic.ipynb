{
 "cells": [
  {
   "cell_type": "markdown",
   "id": "c89ac219-2538-4e4a-b0a4-7c0a7506bc4d",
   "metadata": {},
   "source": [
    "1. Write a program to accept percentage from the user and display the grade according to the following \n",
    "criteria: \n",
    "Marks \n",
    "Grade \n",
    ">90 \n",
    "A \n",
    ">80 and <=90 \n",
    "B \n",
    ">=60 and <=80 \n",
    "C \n",
    "below 60 \n"
   ]
  },
  {
   "cell_type": "code",
   "execution_count": 5,
   "id": "8287c103-8f34-4e82-816f-fa9ab7948493",
   "metadata": {},
   "outputs": [
    {
     "name": "stdin",
     "output_type": "stream",
     "text": [
      "enter marks 75.40\n"
     ]
    },
    {
     "name": "stdout",
     "output_type": "stream",
     "text": [
      "Grade C\n"
     ]
    }
   ],
   "source": [
    "marks = float(input(\"enter marks\"))\n",
    "if marks>90:\n",
    "    print('Grade A')\n",
    "elif marks>80 and marks<=90:\n",
    "    print('Grade B')\n",
    "elif marks>=60 and marks<=80:\n",
    "    print('Grade C')\n",
    "else:\n",
    "    print('Grade D')\n",
    "    "
   ]
  },
  {
   "cell_type": "markdown",
   "id": "be8821ae-ac11-4ec9-9a5d-05743f62e030",
   "metadata": {},
   "source": [
    "2. Write a program to accept the cost price of a bike and display the road tax to be paid according to the \n",
    "following criteria: \n",
    "Tax             Cost Price(in Rs) \n",
    "15%                >100000 \n",
    "10%                >50000 and <= 100000\n",
    "5%                 <= 50000 \n",
    "\n",
    "\n",
    "\n"
   ]
  },
  {
   "cell_type": "code",
   "execution_count": 7,
   "id": "b81c047a-ca00-412b-8136-f7bdeb16a033",
   "metadata": {},
   "outputs": [
    {
     "name": "stdin",
     "output_type": "stream",
     "text": [
      "enter the cost 100001\n"
     ]
    },
    {
     "name": "stdout",
     "output_type": "stream",
     "text": [
      "15% TAX\n"
     ]
    }
   ],
   "source": [
    "Bike_cost_price = float(input('enter the cost'))\n",
    "if Bike_cost_price>100000:\n",
    "    print('15% TAX')\n",
    "elif Bike_cost_price>50000 and Bike_cost_price<=100000:\n",
    "    print('10% TAX')\n",
    "else:\n",
    "    print('5% TAX')"
   ]
  },
  {
   "cell_type": "markdown",
   "id": "46d91b50-2bae-452a-8ccf-83c5906fafd7",
   "metadata": {},
   "source": [
    "3. Accept any city from the user and display monuments of that city. \n",
    "City                Monument\n",
    "Delhi               Red Fort      \n",
    "Agra                Taj Mahal\n",
    "Jaipur              Jal Mahal \n",
    " \n",
    "\n",
    " \n"
   ]
  },
  {
   "cell_type": "code",
   "execution_count": 9,
   "id": "192d8a73-6d2d-4c29-a35d-a4e96094a6e5",
   "metadata": {},
   "outputs": [
    {
     "name": "stdin",
     "output_type": "stream",
     "text": [
      "enter the city Jaipur\n"
     ]
    },
    {
     "name": "stdout",
     "output_type": "stream",
     "text": [
      "Jal Mahal\n"
     ]
    }
   ],
   "source": [
    "city = str(input('enter the city'))\n",
    "if city=='Delhi':\n",
    "    print('Red Fort')\n",
    "elif city=='Agra':\n",
    "    print('Taj Mahal')\n",
    "elif city=='Jaipur':\n",
    "    print('Jal Mahal')\n",
    "else:\n",
    "    print('no data')\n",
    " "
   ]
  },
  {
   "cell_type": "markdown",
   "id": "c25c02b4-98c9-443e-82f8-40553ab2b5f8",
   "metadata": {},
   "source": [
    "4. Check how many times a given number can be divided by 3 before it is less than or equal to 10. "
   ]
  },
  {
   "cell_type": "code",
   "execution_count": 14,
   "id": "a39dd317-4958-48f1-b677-4639dc4164a5",
   "metadata": {},
   "outputs": [
    {
     "name": "stdin",
     "output_type": "stream",
     "text": [
      "enter number 126\n"
     ]
    },
    {
     "data": {
      "text/plain": [
       "3"
      ]
     },
     "execution_count": 14,
     "metadata": {},
     "output_type": "execute_result"
    }
   ],
   "source": [
    "number = int(input('enter number'))\n",
    "count=0\n",
    "while number>10:\n",
    "    number = number/3\n",
    "    count+=1\n",
    "count"
   ]
  },
  {
   "cell_type": "markdown",
   "id": "c7ce98f7-0bff-4401-bb5c-a9d1403e3229",
   "metadata": {},
   "source": [
    "5. Why and When to Use while Loop in Python give a detailed description with example."
   ]
  },
  {
   "cell_type": "markdown",
   "id": "af50145e-e1a6-419d-aa7a-ddb6ff388a51",
   "metadata": {},
   "source": [
    "In Python, a while loop is a control flow statement that allows code to be executed repeatedly based on a certain condition. The loop will continue to execute the block of code as long as the condition is true. The moment the condition becomes false, the loop stops and the control passes to the next statement after the loop.\n",
    "\n",
    "A while loop is useful when you want to repeat a block of code while a certain condition is true, but you don't know how many times the loop will need to be executed. For example, if you are waiting for a certain event to occur and you want your program to keep checking for the event until it happens, you could use a while loop.\n",
    "\n",
    "Here's an example of a while loop that prints out all the numbers from 1 to 10:"
   ]
  },
  {
   "cell_type": "code",
   "execution_count": 15,
   "id": "8e21e158-de29-427e-ab3e-5b40b10ede61",
   "metadata": {},
   "outputs": [
    {
     "name": "stdout",
     "output_type": "stream",
     "text": [
      "1\n",
      "2\n",
      "3\n",
      "4\n",
      "5\n",
      "6\n",
      "7\n",
      "8\n",
      "9\n",
      "10\n"
     ]
    }
   ],
   "source": [
    "i = 1\n",
    "while i <= 10:\n",
    "    print(i)\n",
    "    i += 1\n"
   ]
  },
  {
   "cell_type": "markdown",
   "id": "c1648159-db42-454d-9a1c-27d8de870e15",
   "metadata": {},
   "source": [
    "6. Use nested while loop to print 3 different pattern. "
   ]
  },
  {
   "cell_type": "code",
   "execution_count": 17,
   "id": "aa385278-a247-434e-910c-314be8790080",
   "metadata": {},
   "outputs": [
    {
     "name": "stdout",
     "output_type": "stream",
     "text": [
      "*\n",
      "**\n",
      "***\n",
      "****\n",
      "*****\n"
     ]
    }
   ],
   "source": [
    "row = 1\n",
    "while row <= 5:\n",
    "    col = 1\n",
    "    while col <= row:\n",
    "        print(\"*\", end=\"\")\n",
    "        col += 1\n",
    "    print()\n",
    "    row += 1\n"
   ]
  },
  {
   "cell_type": "code",
   "execution_count": 18,
   "id": "a0e618c6-3838-4dcf-b986-56539617412c",
   "metadata": {},
   "outputs": [
    {
     "name": "stdout",
     "output_type": "stream",
     "text": [
      "55555\n",
      "333\n",
      "1\n"
     ]
    }
   ],
   "source": [
    "row = 5\n",
    "while row >= 1:\n",
    "    col = 1\n",
    "    while col <= row:\n",
    "        print(row, end=\"\")\n",
    "        col += 1\n",
    "    print()\n",
    "    if row == 2:\n",
    "        row -= 1\n",
    "    else:\n",
    "        row -= 2\n"
   ]
  },
  {
   "cell_type": "code",
   "execution_count": 19,
   "id": "f3b51a5f-74d9-415b-9615-f424b9dcbedd",
   "metadata": {},
   "outputs": [
    {
     "name": "stdout",
     "output_type": "stream",
     "text": [
      "   1\n",
      "  123\n",
      " 12345\n",
      "1234567\n"
     ]
    }
   ],
   "source": [
    "row = 1\n",
    "while row <= 4:\n",
    "    space = 3\n",
    "    while space >= row:\n",
    "        print(\" \", end=\"\")\n",
    "        space -= 1\n",
    "    col = 1\n",
    "    while col <= (2 * row - 1):\n",
    "        print(col, end=\"\")\n",
    "        col += 1\n",
    "    print()\n",
    "    row += 1\n"
   ]
  },
  {
   "cell_type": "markdown",
   "id": "9c98df17-4114-4709-9581-f6a6ca81927b",
   "metadata": {},
   "source": [
    "7. Reverse a while loop to display numbers from 10 to 1. "
   ]
  },
  {
   "cell_type": "code",
   "execution_count": 20,
   "id": "5ce13342-e9ba-4a25-b2ff-e5f10dc5b3e9",
   "metadata": {},
   "outputs": [
    {
     "name": "stdout",
     "output_type": "stream",
     "text": [
      "10\n",
      "9\n",
      "8\n",
      "7\n",
      "6\n",
      "5\n",
      "4\n",
      "3\n",
      "2\n",
      "1\n"
     ]
    }
   ],
   "source": [
    "num = 10\n",
    "\n",
    "while num >= 1:\n",
    "    print(num)\n",
    "    num -= 1\n"
   ]
  },
  {
   "cell_type": "code",
   "execution_count": null,
   "id": "acb8eca4-4149-48aa-a2cd-0dd745a3dd00",
   "metadata": {},
   "outputs": [],
   "source": []
  }
 ],
 "metadata": {
  "kernelspec": {
   "display_name": "Python 3 (ipykernel)",
   "language": "python",
   "name": "python3"
  },
  "language_info": {
   "codemirror_mode": {
    "name": "ipython",
    "version": 3
   },
   "file_extension": ".py",
   "mimetype": "text/x-python",
   "name": "python",
   "nbconvert_exporter": "python",
   "pygments_lexer": "ipython3",
   "version": "3.10.8"
  }
 },
 "nbformat": 4,
 "nbformat_minor": 5
}
